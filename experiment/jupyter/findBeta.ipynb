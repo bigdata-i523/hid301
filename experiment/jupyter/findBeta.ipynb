import numpy as np
from pandas_datareader import data as d
import matplotlib.pyplot as plt
import pandas as pd
import datetime 

goog = 'GOOG'
spy = 'SPY'

start_date = datetime.datetime(2012, 5, 18) 
end_date = datetime.datetime(2017, 11, 2)

df1 = d.get_data_google(goog,start_date,end_date)
df2 = d.get_data_google(spy,start_date,end_date)

return_goog = df1.Close.pct_change()[1:]
return_spy = df2.Close.pct_change()[1:]

plt.figure(figsize=(20,10))
return_goog.plot()
return_spy.plot()
plt.ylabel("Daily Return of Google and SPY")
plt.show()
