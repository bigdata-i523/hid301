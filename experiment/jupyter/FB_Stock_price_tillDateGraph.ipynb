
import pandas as pd
import pandas_datareader.data as web
import datetime

start_date = datetime.datetime(2012, 5, 18) 
end_date = datetime.datetime(2017, 11, 2)

fbStocks = web.DataReader("FB", "yahoo", start_date, end_date)

print(fbStocks.tail()) # recent rows 
